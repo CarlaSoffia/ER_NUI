{
 "cells": [
  {
   "cell_type": "code",
   "execution_count": 3,
   "metadata": {},
   "outputs": [],
   "source": [
    "# import modules\n",
    "import os\n",
    "import pandas as pd\n",
    "import sys\n",
    "import csv\n",
    "from tqdm import tqdm"
   ]
  },
  {
   "cell_type": "code",
   "execution_count": 4,
   "metadata": {},
   "outputs": [
    {
     "data": {
      "text/plain": [
       "'c:\\\\coqui\\\\preprocessing'"
      ]
     },
     "execution_count": 4,
     "metadata": {},
     "output_type": "execute_result"
    }
   ],
   "source": [
    "# update file name\n",
    "file_tsv = 'other.tsv'\n",
    "pathClips = '/coqui/dataset/clips/'\n",
    "path = '/coqui/dataset'\n",
    "deleteRows = 0\n",
    "deleted=0\n",
    "os.getcwd() # 606 +356 + 443 "
   ]
  },
  {
   "cell_type": "code",
   "execution_count": 5,
   "metadata": {},
   "outputs": [
    {
     "name": "stdout",
     "output_type": "stream",
     "text": [
      "Total clips: 2810 & other.tsv entries: 7572\n"
     ]
    }
   ],
   "source": [
    "# statistics\n",
    "os.chdir(pathClips)\n",
    "totalFiles = len(os.listdir(pathClips))  \n",
    "os.chdir(path)\n",
    "os.getcwd()\n",
    "audio_table = pd.read_csv(file_tsv, sep='\\t', header=0, usecols=[1], quoting=csv.QUOTE_NONE)\n",
    "total = len(audio_table)\n",
    "print(\"Total clips: \" + str(totalFiles) + \" & \" + file_tsv + \" entries: \" + str(total) )\n"
   ]
  },
  {
   "cell_type": "code",
   "execution_count": 60,
   "metadata": {},
   "outputs": [
    {
     "name": "stdout",
     "output_type": "stream",
     "text": [
      "[End] - Deleted 102 files, remaining 8997 files in total\n"
     ]
    }
   ],
   "source": [
    "# Delete files - where every registry is to delete\n",
    "os.chdir(pathClips)\n",
    "if file_tsv == 'invalidated.tsv' and file_tsv == 'other.tsv':\n",
    "    for _, row in tqdm(audio_table.iterrows()):\n",
    "        if os.path.exists(row[0]):\n",
    "            os.remove(row[0])\n",
    "            deleted = deleted + 1\n",
    "totalFiles = len(os.listdir())                     \n",
    "print(\"[End] - Deleted \"+str(deleted) +\" files, remaining \"+str(totalFiles)+\" files in total\")  "
   ]
  },
  {
   "cell_type": "code",
   "execution_count": 6,
   "metadata": {},
   "outputs": [
    {
     "ename": "ImportError",
     "evalue": "IProgress not found. Please update jupyter and ipywidgets. See https://ipywidgets.readthedocs.io/en/stable/user_install.html",
     "output_type": "error",
     "traceback": [
      "\u001b[1;31m---------------------------------------------------------------------------\u001b[0m",
      "\u001b[1;31mImportError\u001b[0m                               Traceback (most recent call last)",
      "Cell \u001b[1;32mIn [6], line 10\u001b[0m\n\u001b[0;32m      8\u001b[0m deleted \u001b[39m=\u001b[39m \u001b[39m0\u001b[39m\n\u001b[0;32m      9\u001b[0m os\u001b[39m.\u001b[39mchdir(pathClips)\n\u001b[1;32m---> 10\u001b[0m \u001b[39mfor\u001b[39;00m _, row \u001b[39min\u001b[39;00m tqdm(audio_table\u001b[39m.\u001b[39;49miterrows()):\n\u001b[0;32m     11\u001b[0m     \u001b[39mfor\u001b[39;00m idx \u001b[39min\u001b[39;00m \u001b[39mrange\u001b[39m(\u001b[39m3\u001b[39m):\n\u001b[0;32m     12\u001b[0m         \u001b[39mif\u001b[39;00m audioFilesKeep[idx][\u001b[39m'\u001b[39m\u001b[39mpath\u001b[39m\u001b[39m'\u001b[39m]\u001b[39m.\u001b[39mstr\u001b[39m.\u001b[39mcontains(row[\u001b[39m0\u001b[39m])\u001b[39m.\u001b[39msum() \u001b[39m==\u001b[39m \u001b[39m0\u001b[39m:  \n",
      "File \u001b[1;32mc:\\Users\\User\\AppData\\Local\\Programs\\Python\\Python39\\lib\\site-packages\\tqdm\\notebook.py:242\u001b[0m, in \u001b[0;36mtqdm_notebook.__init__\u001b[1;34m(self, *args, **kwargs)\u001b[0m\n\u001b[0;32m    240\u001b[0m unit_scale \u001b[39m=\u001b[39m \u001b[39m1\u001b[39m \u001b[39mif\u001b[39;00m \u001b[39mself\u001b[39m\u001b[39m.\u001b[39munit_scale \u001b[39mis\u001b[39;00m \u001b[39mTrue\u001b[39;00m \u001b[39melse\u001b[39;00m \u001b[39mself\u001b[39m\u001b[39m.\u001b[39munit_scale \u001b[39mor\u001b[39;00m \u001b[39m1\u001b[39m\n\u001b[0;32m    241\u001b[0m total \u001b[39m=\u001b[39m \u001b[39mself\u001b[39m\u001b[39m.\u001b[39mtotal \u001b[39m*\u001b[39m unit_scale \u001b[39mif\u001b[39;00m \u001b[39mself\u001b[39m\u001b[39m.\u001b[39mtotal \u001b[39melse\u001b[39;00m \u001b[39mself\u001b[39m\u001b[39m.\u001b[39mtotal\n\u001b[1;32m--> 242\u001b[0m \u001b[39mself\u001b[39m\u001b[39m.\u001b[39mcontainer \u001b[39m=\u001b[39m \u001b[39mself\u001b[39;49m\u001b[39m.\u001b[39;49mstatus_printer(\u001b[39mself\u001b[39;49m\u001b[39m.\u001b[39;49mfp, total, \u001b[39mself\u001b[39;49m\u001b[39m.\u001b[39;49mdesc, \u001b[39mself\u001b[39;49m\u001b[39m.\u001b[39;49mncols)\n\u001b[0;32m    243\u001b[0m \u001b[39mself\u001b[39m\u001b[39m.\u001b[39mcontainer\u001b[39m.\u001b[39mpbar \u001b[39m=\u001b[39m proxy(\u001b[39mself\u001b[39m)\n\u001b[0;32m    244\u001b[0m \u001b[39mself\u001b[39m\u001b[39m.\u001b[39mdisplayed \u001b[39m=\u001b[39m \u001b[39mFalse\u001b[39;00m\n",
      "File \u001b[1;32mc:\\Users\\User\\AppData\\Local\\Programs\\Python\\Python39\\lib\\site-packages\\tqdm\\notebook.py:118\u001b[0m, in \u001b[0;36mtqdm_notebook.status_printer\u001b[1;34m(_, total, desc, ncols)\u001b[0m\n\u001b[0;32m    109\u001b[0m \u001b[39m# Fallback to text bar if there's no total\u001b[39;00m\n\u001b[0;32m    110\u001b[0m \u001b[39m# DEPRECATED: replaced with an 'info' style bar\u001b[39;00m\n\u001b[0;32m    111\u001b[0m \u001b[39m# if not total:\u001b[39;00m\n\u001b[1;32m   (...)\u001b[0m\n\u001b[0;32m    115\u001b[0m \n\u001b[0;32m    116\u001b[0m \u001b[39m# Prepare IPython progress bar\u001b[39;00m\n\u001b[0;32m    117\u001b[0m \u001b[39mif\u001b[39;00m IProgress \u001b[39mis\u001b[39;00m \u001b[39mNone\u001b[39;00m:  \u001b[39m# #187 #451 #558 #872\u001b[39;00m\n\u001b[1;32m--> 118\u001b[0m     \u001b[39mraise\u001b[39;00m \u001b[39mImportError\u001b[39;00m(WARN_NOIPYW)\n\u001b[0;32m    119\u001b[0m \u001b[39mif\u001b[39;00m total:\n\u001b[0;32m    120\u001b[0m     pbar \u001b[39m=\u001b[39m IProgress(\u001b[39mmin\u001b[39m\u001b[39m=\u001b[39m\u001b[39m0\u001b[39m, \u001b[39mmax\u001b[39m\u001b[39m=\u001b[39mtotal)\n",
      "\u001b[1;31mImportError\u001b[0m: IProgress not found. Please update jupyter and ipywidgets. See https://ipywidgets.readthedocs.io/en/stable/user_install.html"
     ]
    }
   ],
   "source": [
    "# Delete files #2 - where content belongs in train.tsv, test.tsv or dev.tsv\n",
    "audioFilesKeep = [[],[],[]]\n",
    "os.chdir(path)\n",
    "audioFilesKeep[0] = pd.read_csv('train.tsv', sep='\\t', header=0, usecols=[1])\n",
    "audioFilesKeep[1] = pd.read_csv('test.tsv', sep='\\t', header=0, usecols=[1])\n",
    "audioFilesKeep[2] = pd.read_csv('dev.tsv', sep='\\t', header=0, usecols=[1])\n",
    "notFound = 0\n",
    "deleted = 0\n",
    "os.chdir(pathClips)\n",
    "for _, row in tqdm(audio_table.iterrows()):\n",
    "    for idx in range(3):\n",
    "        if audioFilesKeep[idx]['path'].str.contains(row[0]).sum() == 0:  \n",
    "            notFound = notFound + 1       \n",
    "    if notFound == 3 and os.path.exists(row[0]):\n",
    "        #print(row[0], os.path.exists(row[0]))\n",
    "        os.remove(row[0])\n",
    "        deleted = deleted + 1\n",
    "            \n",
    "    notFound = 0            \n",
    "        \n",
    "totalFiles = len(os.listdir())                     \n",
    "print(\"[End] - Deleted \"+str(deleted) +\" files, remaining \"+str(totalFiles)+\" files in total\") \n"
   ]
  }
 ],
 "metadata": {
  "kernelspec": {
   "display_name": "Python 3",
   "language": "python",
   "name": "python3"
  },
  "language_info": {
   "codemirror_mode": {
    "name": "ipython",
    "version": 3
   },
   "file_extension": ".py",
   "mimetype": "text/x-python",
   "name": "python",
   "nbconvert_exporter": "python",
   "pygments_lexer": "ipython3",
   "version": "3.9.2 (tags/v3.9.2:1a79785, Feb 19 2021, 13:44:55) [MSC v.1928 64 bit (AMD64)]"
  },
  "orig_nbformat": 4,
  "vscode": {
   "interpreter": {
    "hash": "cf92aa13fedf815d5c8dd192b8d835913fde3e8bc926b2a0ad6cc74ef2ba3ca2"
   }
  }
 },
 "nbformat": 4,
 "nbformat_minor": 2
}
