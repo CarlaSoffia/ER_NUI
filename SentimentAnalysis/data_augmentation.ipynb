{
 "cells": [
  {
   "cell_type": "code",
   "execution_count": 32,
   "metadata": {},
   "outputs": [
    {
     "name": "stderr",
     "output_type": "stream",
     "text": [
      "[nltk_data] Downloading package stopwords to\n",
      "[nltk_data]     C:\\Users\\User\\AppData\\Roaming\\nltk_data...\n",
      "[nltk_data]   Package stopwords is already up-to-date!\n"
     ]
    }
   ],
   "source": [
    "import random\n",
    "import spacy\n",
    "import csv\n",
    "\n",
    "random.seed(42)\n",
    "nlp = spacy.load(\"pt_core_news_lg\")"
   ]
  },
  {
   "cell_type": "code",
   "execution_count": 33,
   "metadata": {},
   "outputs": [],
   "source": [
    "def lemmatize_text(text):\n",
    "    doc = nlp(text)\n",
    "    lemmatized_tokens = [token.lemma_ for token in doc if not token.is_stop and token.is_alpha]\n",
    "    return ' '.join(lemmatized_tokens)    "
   ]
  },
  {
   "cell_type": "code",
   "execution_count": 39,
   "metadata": {},
   "outputs": [],
   "source": [
    "with open(\"ISEAR_only_text_pt_final.csv\", \"r\", encoding=\"utf-8\") as file, open(\"ISEAR_only_text_pt_data_augmentation.csv\", \"w\", encoding=\"utf-8\") as output_file:\n",
    "    reader = csv.reader(file, delimiter=';')\n",
    "    for idx,data in enumerate(reader):\n",
    "        if idx == 0:\n",
    "            continue\n",
    "        new_text = lemmatize_text(data[1])\n",
    "        output_file.write(f'{data[0]};{data[1]}.\\n')\n",
    "        output_file.write(f'{data[0]};{new_text}.\\n')"
   ]
  }
 ],
 "metadata": {
  "kernelspec": {
   "display_name": "Python 3",
   "language": "python",
   "name": "python3"
  },
  "language_info": {
   "codemirror_mode": {
    "name": "ipython",
    "version": 3
   },
   "file_extension": ".py",
   "mimetype": "text/x-python",
   "name": "python",
   "nbconvert_exporter": "python",
   "pygments_lexer": "ipython3",
   "version": "3.9.2"
  },
  "orig_nbformat": 4
 },
 "nbformat": 4,
 "nbformat_minor": 2
}
