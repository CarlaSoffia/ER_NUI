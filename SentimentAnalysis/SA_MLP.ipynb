{
 "cells": [
  {
   "cell_type": "code",
   "execution_count": 1,
   "metadata": {},
   "outputs": [
    {
     "name": "stderr",
     "output_type": "stream",
     "text": [
      "c:\\Python311\\Lib\\site-packages\\tqdm\\auto.py:21: TqdmWarning: IProgress not found. Please update jupyter and ipywidgets. See https://ipywidgets.readthedocs.io/en/stable/user_install.html\n",
      "  from .autonotebook import tqdm as notebook_tqdm\n"
     ]
    }
   ],
   "source": [
    "import torch\n",
    "import torch.nn as nn\n",
    "from torch.utils.data import DataLoader\n",
    "import numpy as np\n",
    "import pandas as pd\n",
    "from sklearn.model_selection import train_test_split\n",
    "from sklearn.preprocessing import LabelEncoder\n",
    "import pytorch_lightning as pl\n",
    "import torch.nn.functional as F\n",
    "import logging\n",
    "import spacy\n",
    "from torchtext.data import get_tokenizer\n",
    "\n",
    "batch = 64\n",
    "test_size=0.30"
   ]
  },
  {
   "cell_type": "code",
   "execution_count": 2,
   "metadata": {},
   "outputs": [],
   "source": [
    "# configure logging at the root level of Lightning\n",
    "logging.getLogger(\"lightning.pytorch\").setLevel(logging.DEBUG)\n",
    "\n",
    "logger = logging.getLogger(\"lightning.pytorch.core\")\n",
    "logger.addHandler(logging.FileHandler(\"logsMLP5layers.log\"))"
   ]
  },
  {
   "cell_type": "code",
   "execution_count": 3,
   "metadata": {},
   "outputs": [],
   "source": [
    "class EarlyStoppingCallback(pl.Callback):\n",
    "    def __init__(self, monitor='val_loss', patience=3):\n",
    "        super().__init__()\n",
    "        self.monitor = monitor\n",
    "        self.patience = patience\n",
    "        self.wait = 0\n",
    "        self.stopped_epoch = 0\n",
    "        self.best_score = None\n",
    "\n",
    "    def on_validation_end(self, trainer, pl_module):\n",
    "        val_loss = trainer.callback_metrics.get(self.monitor)\n",
    "        if self.best_score is None:\n",
    "            self.best_score = val_loss\n",
    "        elif val_loss > self.best_score:\n",
    "            self.wait += 1\n",
    "            if self.wait >= self.patience:\n",
    "                self.stopped_epoch = trainer.current_epoch\n",
    "                trainer.should_stop = True\n",
    "        else:\n",
    "            self.best_score = val_loss\n",
    "            self.wait = 0\n",
    "\n",
    "class SentimentClassifier(pl.LightningModule):\n",
    "    def __init__(self):\n",
    "        super(SentimentClassifier, self).__init__()\n",
    "        self.embedding = nn.Embedding(114277, 5000)\n",
    "        self.fc1 = nn.Linear(5000, 1250)\n",
    "       # self.fc2 = nn.Linear(2500, 1250)\n",
    "        self.fc3 = nn.Linear(1250, 256)\n",
    "        #self.fc4 = nn.Linear(625, 256)\n",
    "        self.fc5 = nn.Linear(256, 7)\n",
    "\n",
    "    def forward(self, x):\n",
    "        embedded = self.embedding(x)\n",
    "        embedded = embedded.mean(dim=1)\n",
    "        out = self.fc1(embedded)\n",
    "        out = F.relu(out)\n",
    "        #out = self.fc2(out)\n",
    "        #out = F.relu(out)\n",
    "        out = self.fc3(out)\n",
    "        out = F.relu(out)\n",
    "        #out = self.fc4(out)        \n",
    "        #out = F.relu(out)\n",
    "        out = self.fc5(out)\n",
    "        return out\n",
    "\n",
    "    def training_step(self, batch):\n",
    "        inputs, labels = batch\n",
    "        outputs = self(inputs)\n",
    "        loss = F.cross_entropy(outputs, labels)\n",
    "        acc = (outputs.argmax(dim=1) == labels).float().mean()\n",
    "        self.log('train_loss', loss)\n",
    "        self.log('train_acc', acc)\n",
    "        return loss\n",
    "\n",
    "    def validation_step(self, batch, idx):\n",
    "        inputs, labels = batch\n",
    "        outputs = self(inputs)\n",
    "        loss = F.cross_entropy(outputs, labels)\n",
    "        acc = (outputs.argmax(dim=1) == labels).float().mean()\n",
    "        self.log('val_loss', loss)\n",
    "        self.log('val_acc', acc)\n",
    "        return loss\n",
    "    \n",
    "    def test_step(self, batch):\n",
    "        inputs, labels = batch\n",
    "        outputs = self(inputs)\n",
    "        loss = F.cross_entropy(outputs, labels)\n",
    "        acc = (outputs.argmax(dim=1) == labels).float().mean()\n",
    "        self.log('test_loss', loss)\n",
    "        self.log('test_acc', acc)\n",
    "        return loss\n",
    "    def on_train_epoch_end(self):\n",
    "        train_loss = self.trainer.callback_metrics['train_loss']\n",
    "        train_acc = self.trainer.callback_metrics['train_acc']\n",
    "        val_loss = self.trainer.callback_metrics['val_loss']\n",
    "        val_acc = self.trainer.callback_metrics['val_acc']\n",
    "        logger.debug(f'[Epoch {self.current_epoch}] - Training results: train_loss={train_loss:.4f}, train_acc={train_acc:.4f}')\n",
    "        logger.debug(f'[Epoch {self.current_epoch}] - Validation results: val_loss={val_loss:.4f}, val_acc={val_acc:.4f}')\n",
    "        \n",
    "    def configure_optimizers(self):\n",
    "        optimizer = torch.optim.Adam(self.parameters(), lr=0.0001)\n",
    "        lr_scheduler = torch.optim.lr_scheduler.ReduceLROnPlateau(optimizer, mode='min', factor=0.01, patience=5, verbose=True,min_lr=0.000001)\n",
    "        monitor_metric = 'val_loss'\n",
    "        return {\n",
    "            'optimizer': optimizer,\n",
    "            'lr_scheduler': lr_scheduler,\n",
    "            'monitor': monitor_metric\n",
    "        }\n"
   ]
  },
  {
   "cell_type": "code",
   "execution_count": 4,
   "metadata": {},
   "outputs": [],
   "source": [
    "\n",
    "np.random.seed(0)\n",
    "torch.manual_seed(42)\n",
    "dataset = pd.read_csv(\"ISEAR_only_text_pt_data_augmentation.csv\", sep=\";\")\n",
    "\n",
    "le = LabelEncoder()\n",
    "dataset['sentiment'] = le.fit_transform(dataset['sentiment'])\n",
    "train_texts, test_texts, train_labels, test_labels = train_test_split(dataset['text'], dataset['sentiment'], test_size=test_size, random_state=0)\n",
    "\n",
    "train_labels = np.array(train_labels)\n",
    "test_labels = np.array(test_labels)"
   ]
  },
  {
   "cell_type": "code",
   "execution_count": 5,
   "metadata": {},
   "outputs": [
    {
     "name": "stderr",
     "output_type": "stream",
     "text": [
      "C:\\Users\\User\\AppData\\Local\\Temp\\ipykernel_17332\\854593644.py:31: UserWarning: To copy construct from a tensor, it is recommended to use sourceTensor.clone().detach() or sourceTensor.clone().detach().requires_grad_(True), rather than torch.tensor(sourceTensor).\n",
      "  train_sequences = torch.tensor(train_sequences, dtype=torch.long).clone().detach().to(device)\n",
      "C:\\Users\\User\\AppData\\Local\\Temp\\ipykernel_17332\\854593644.py:32: UserWarning: To copy construct from a tensor, it is recommended to use sourceTensor.clone().detach() or sourceTensor.clone().detach().requires_grad_(True), rather than torch.tensor(sourceTensor).\n",
      "  test_sequences = torch.tensor(test_sequences, dtype=torch.long).clone().detach().to(device)\n"
     ]
    }
   ],
   "source": [
    "\n",
    "nlp = spacy.load(\"pt_core_news_sm\")\n",
    "\n",
    "# Create a vocabulary of tokens\n",
    "vocab = set()\n",
    "for text in train_texts:\n",
    "    doc = nlp(text)\n",
    "    tokens = [token.text for token in doc]\n",
    "    vocab.update(tokens)\n",
    "\n",
    "for text in test_texts:\n",
    "    doc = nlp(text)\n",
    "    tokens = [token.text for token in doc]\n",
    "    vocab.update(tokens)\n",
    "# Assign unique indices to tokens\n",
    "token2index = {token: i for i, token in enumerate(vocab)}\n",
    "\n",
    "# Convert tokens to indices\n",
    "train_sequences = [\n",
    "    torch.tensor([token2index[token.text] for token in nlp(text)], dtype=torch.long)\n",
    "    for text in train_texts\n",
    "]\n",
    "test_sequences = [\n",
    "    torch.tensor([token2index[token.text] for token in nlp(text)], dtype=torch.long)\n",
    "    for text in test_texts\n",
    "]\n"
   ]
  },
  {
   "cell_type": "code",
   "execution_count": 11,
   "metadata": {},
   "outputs": [],
   "source": [
    "\n",
    "train_sequences = torch.nn.utils.rnn.pad_sequence(train_sequences, batch_first=True)\n",
    "test_sequences = torch.nn.utils.rnn.pad_sequence(test_sequences, batch_first=True)\n",
    "\n",
    "device = torch.device(\"cuda:0\" if torch.cuda.is_available() else \"cpu\")\n",
    "train_sequences = train_sequences.clone().detach().to(device)\n",
    "test_sequences = test_sequences.clone().detach().to(device)\n",
    "\n",
    "train_labels = train_labels.clone().detach().to(device)\n",
    "test_labels = test_labels.clone().detach().to(device)\n"
   ]
  },
  {
   "cell_type": "code",
   "execution_count": 12,
   "metadata": {},
   "outputs": [],
   "source": [
    "model = SentimentClassifier()\n",
    "\n",
    "# Define the dataloaders\n",
    "train_dataset = torch.utils.data.TensorDataset(train_sequences, train_labels)\n",
    "test_dataset = torch.utils.data.TensorDataset(test_sequences, test_labels)\n",
    "\n",
    "train_loader = DataLoader(train_dataset, batch_size=batch, shuffle=False, pin_memory=True)\n",
    "test_loader = DataLoader(test_dataset, batch_size=batch, shuffle=True, pin_memory=True)"
   ]
  },
  {
   "cell_type": "code",
   "execution_count": 13,
   "metadata": {},
   "outputs": [
    {
     "name": "stderr",
     "output_type": "stream",
     "text": [
      "GPU available: False, used: False\n",
      "TPU available: False, using: 0 TPU cores\n",
      "IPU available: False, using: 0 IPUs\n",
      "HPU available: False, using: 0 HPUs\n",
      "\n",
      "  | Name      | Type      | Params\n",
      "----------------------------------------\n",
      "0 | embedding | Embedding | 571 M \n",
      "1 | fc1       | Linear    | 6.3 M \n",
      "2 | fc3       | Linear    | 320 K \n",
      "3 | fc5       | Linear    | 1.8 K \n",
      "----------------------------------------\n",
      "577 M     Trainable params\n",
      "0         Non-trainable params\n",
      "577 M     Total params\n",
      "2,311.833 Total estimated model params size (MB)\n"
     ]
    },
    {
     "name": "stdout",
     "output_type": "stream",
     "text": [
      "Sanity Checking DataLoader 0:   0%|          | 0/2 [00:00<?, ?it/s]"
     ]
    },
    {
     "name": "stderr",
     "output_type": "stream",
     "text": [
      "c:\\Python311\\Lib\\site-packages\\pytorch_lightning\\trainer\\connectors\\data_connector.py:478: PossibleUserWarning: Your `val_dataloader`'s sampler has shuffling enabled, it is strongly recommended that you turn shuffling off for val/test dataloaders.\n",
      "  rank_zero_warn(\n",
      "c:\\Python311\\Lib\\site-packages\\pytorch_lightning\\trainer\\connectors\\data_connector.py:430: PossibleUserWarning: The dataloader, val_dataloader, does not have many workers which may be a bottleneck. Consider increasing the value of the `num_workers` argument` (try 8 which is the number of cpus on this machine) in the `DataLoader` init to improve performance.\n",
      "  rank_zero_warn(\n"
     ]
    },
    {
     "name": "stdout",
     "output_type": "stream",
     "text": [
      "                                                                           "
     ]
    },
    {
     "name": "stderr",
     "output_type": "stream",
     "text": [
      "c:\\Python311\\Lib\\site-packages\\pytorch_lightning\\trainer\\connectors\\data_connector.py:430: PossibleUserWarning: The dataloader, train_dataloader, does not have many workers which may be a bottleneck. Consider increasing the value of the `num_workers` argument` (try 8 which is the number of cpus on this machine) in the `DataLoader` init to improve performance.\n",
      "  rank_zero_warn(\n"
     ]
    },
    {
     "name": "stdout",
     "output_type": "stream",
     "text": [
      "Epoch 0:   3%|▎         | 5/165 [02:32<1:21:16, 30.48s/it, v_num=3]"
     ]
    },
    {
     "name": "stderr",
     "output_type": "stream",
     "text": [
      "c:\\Python311\\Lib\\site-packages\\pytorch_lightning\\trainer\\call.py:54: UserWarning: Detected KeyboardInterrupt, attempting graceful shutdown...\n",
      "  rank_zero_warn(\"Detected KeyboardInterrupt, attempting graceful shutdown...\")\n"
     ]
    }
   ],
   "source": [
    "# Train the model\n",
    "model = model.to(device)\n",
    "early_stop_callback = EarlyStoppingCallback(monitor='val_loss', patience=10)\n",
    "\n",
    "trainer = pl.Trainer(max_epochs = 100, callbacks=[early_stop_callback],log_every_n_steps=1)\n",
    "trainer.fit(model, train_loader, test_loader)    \n",
    "\n",
    "\n",
    "torch.save(model.state_dict(), \".\\models_pytorch\\model_MLP5L.pt\")"
   ]
  }
 ],
 "metadata": {
  "kernelspec": {
   "display_name": "Python 3",
   "language": "python",
   "name": "python3"
  },
  "language_info": {
   "codemirror_mode": {
    "name": "ipython",
    "version": 3
   },
   "file_extension": ".py",
   "mimetype": "text/x-python",
   "name": "python",
   "nbconvert_exporter": "python",
   "pygments_lexer": "ipython3",
   "version": "3.11.3"
  },
  "orig_nbformat": 4
 },
 "nbformat": 4,
 "nbformat_minor": 2
}
